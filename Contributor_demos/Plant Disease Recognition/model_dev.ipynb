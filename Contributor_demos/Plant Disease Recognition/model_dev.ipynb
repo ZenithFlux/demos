{
 "cells": [
  {
   "cell_type": "markdown",
   "id": "89d999ea-387b-435e-ba13-915cf243d1a6",
   "metadata": {
    "id": "89d999ea-387b-435e-ba13-915cf243d1a6"
   },
   "source": [
    "# Plant Disease Recognition"
   ]
  },
  {
   "cell_type": "code",
   "execution_count": 1,
   "id": "zKlMQVuHaMmT",
   "metadata": {
    "colab": {
     "base_uri": "https://localhost:8080/"
    },
    "executionInfo": {
     "elapsed": 61295,
     "status": "ok",
     "timestamp": 1714374375095,
     "user": {
      "displayName": "Chaitanya Lakhchaura",
      "userId": "14549145919157624375"
     },
     "user_tz": -330
    },
    "id": "zKlMQVuHaMmT",
    "outputId": "e0f8a9cf-9e94-408b-f255-4ed08b6555b0"
   },
   "outputs": [],
   "source": [
    "# Setting up the project\n",
    "# !git clone -n --depth 1 --filter tree:0 https://github.com/spMohanty/PlantVillage-Dataset.git ./dataset\n",
    "# !cd ./dataset && git sparse-checkout set raw/color && git checkout\n",
    "# !pip install ivy"
   ]
  },
  {
   "cell_type": "code",
   "execution_count": 2,
   "id": "77ba8610-0bf4-4b95-b828-002eaa659b27",
   "metadata": {
    "id": "77ba8610-0bf4-4b95-b828-002eaa659b27"
   },
   "outputs": [],
   "source": [
    "import os\n",
    "import json\n",
    "import glob\n",
    "import multiprocessing as mp\n",
    "from typing import TypeAlias\n",
    "\n",
    "import ivy\n",
    "import cv2\n",
    "import numpy as np\n",
    "from tqdm.notebook import tqdm"
   ]
  },
  {
   "cell_type": "code",
   "execution_count": 3,
   "id": "702f0601-21c7-4e76-93ae-88b93eb5ec96",
   "metadata": {
    "id": "702f0601-21c7-4e76-93ae-88b93eb5ec96"
   },
   "outputs": [],
   "source": [
    "ivy.set_backend(\"torch\")\n",
    "ivy.set_default_device(\"gpu:0\" if ivy.gpu_is_available() else \"cpu\")"
   ]
  },
  {
   "cell_type": "code",
   "execution_count": 4,
   "id": "C4Xakngce51m",
   "metadata": {
    "colab": {
     "base_uri": "https://localhost:8080/",
     "height": 36
    },
    "executionInfo": {
     "elapsed": 11,
     "status": "ok",
     "timestamp": 1714374382695,
     "user": {
      "displayName": "Chaitanya Lakhchaura",
      "userId": "14549145919157624375"
     },
     "user_tz": -330
    },
    "id": "C4Xakngce51m",
    "outputId": "94490515-8e94-47e1-e342-2833c149ab0e"
   },
   "outputs": [
    {
     "data": {
      "text/plain": [
       "'gpu:0'"
      ]
     },
     "execution_count": 4,
     "metadata": {},
     "output_type": "execute_result"
    }
   ],
   "source": [
    "ivy.default_device()"
   ]
  },
  {
   "cell_type": "code",
   "execution_count": 5,
   "id": "kqJGoawLvPU1",
   "metadata": {
    "id": "kqJGoawLvPU1"
   },
   "outputs": [],
   "source": [
    "# Constants\n",
    "SEED = 8753"
   ]
  },
  {
   "cell_type": "markdown",
   "id": "h7jHt72MpLys",
   "metadata": {
    "id": "h7jHt72MpLys"
   },
   "source": [
    "## Utils"
   ]
  },
  {
   "cell_type": "code",
   "execution_count": 6,
   "id": "s2aGWfo0ZH9l",
   "metadata": {
    "id": "s2aGWfo0ZH9l"
   },
   "outputs": [],
   "source": [
    "# Utils\n",
    "\n",
    "class AverageCalculator:\n",
    "    def __init__(self):\n",
    "        self.reset()\n",
    "\n",
    "    def update(self, num, count=1):\n",
    "        self.count += count\n",
    "        self.sum += num * count\n",
    "\n",
    "    def avg(self):\n",
    "        return self.sum/self.count\n",
    "\n",
    "    def reset(self):\n",
    "        self.sum = self.count = 0.0"
   ]
  },
  {
   "cell_type": "markdown",
   "id": "Rx3XjNIikxLS",
   "metadata": {
    "id": "Rx3XjNIikxLS"
   },
   "source": [
    "## Creating Dataset and DataLoader"
   ]
  },
  {
   "cell_type": "code",
   "execution_count": 52,
   "id": "M1KpONExlDep",
   "metadata": {
    "id": "M1KpONExlDep"
   },
   "outputs": [],
   "source": [
    "Data: TypeAlias = tuple[ivy.Array, ivy.Array]\n",
    "\n",
    "class PlantVillageDataset:\n",
    "    \"\"\"Represents the PlantVillage Dataset\"\"\"\n",
    "\n",
    "    IMG_SHAPE = (256, 256, 3)\n",
    "\n",
    "    def __init__(self, dataset_path: str | None, shuffle: bool = True, seed: int | None = None):\n",
    "        \"\"\"\n",
    "        Args:\n",
    "            dataset_path: Path to the local PlantVillage repo\n",
    "        \"\"\"\n",
    "\n",
    "        if dataset_path is None:\n",
    "            return\n",
    "\n",
    "        disease_folders_path = os.path.join(dataset_path, \"raw/color\")\n",
    "        disease_folders = glob.glob(os.path.join(disease_folders_path, \"*\"))\n",
    "        self.label_names = [os.path.basename(x) for x in disease_folders]\n",
    "\n",
    "        images = []\n",
    "        labels = []\n",
    "        for i, label_text in enumerate(self.label_names):\n",
    "            imgs_path = glob.glob(os.path.join(disease_folders_path, label_text, \"*\"))\n",
    "            images += imgs_path\n",
    "            labels += [i] * len(imgs_path)\n",
    "\n",
    "        self.images = np.array(images)\n",
    "        self.labels = ivy.array(labels, device=\"cpu\")\n",
    "        assert len(self.images) == len(self.labels), \\\n",
    "            \"image array and label array do not have equal sizes\"\n",
    "\n",
    "        if shuffle:\n",
    "            self.shuffle(seed)\n",
    "\n",
    "    def __repr__(self) -> str:\n",
    "        return f\"PlantVillageDataset[size={len(self)}]\"\n",
    "\n",
    "\n",
    "    def split(\n",
    "        self,\n",
    "        ratio: float,\n",
    "        shuffle: bool = True,\n",
    "        seed: int | None = None\n",
    "    ) -> tuple['PlantVillageDataset', 'PlantVillageDataset']:\n",
    "        \"\"\"Split the dataset into two PlantVillage datasets.\"\"\"\n",
    "\n",
    "        assert 0 < ratio < 1, \"ratio must be between 0 and 1\"\n",
    "\n",
    "        if shuffle:\n",
    "            self.shuffle(seed)\n",
    "\n",
    "        split1_size = int(len(self.images) * ratio)\n",
    "\n",
    "        ds1 = PlantVillageDataset(None)\n",
    "        ds2 = PlantVillageDataset(None)\n",
    "        ds1.label_names = self.label_names\n",
    "        ds2.label_names = self.label_names\n",
    "        ds1.images = self.images[:split1_size]\n",
    "        ds1.labels = self.labels[:split1_size]\n",
    "        ds2.images = self.images[split1_size:]\n",
    "        ds2.labels = self.labels[split1_size:]\n",
    "\n",
    "        return ds1, ds2\n",
    "\n",
    "\n",
    "    def shuffle(self, seed: int | None = None) -> None:\n",
    "        rng = np.random.default_rng(seed)\n",
    "        idxs = rng.permutation(len(self.images))\n",
    "        self.images = self.images[idxs]\n",
    "        self.labels = self.labels[idxs]\n",
    "\n",
    "\n",
    "    def __len__(self):\n",
    "        return len(self.images)\n",
    "\n",
    "\n",
    "    def _get_one_item(self, i: int) -> Data:\n",
    "        img_path = self.images[i]\n",
    "        img = cv2.imread(img_path)\n",
    "        assert img.shape == self.IMG_SHAPE, f\"Wrong image shape {img.shape}\"\n",
    "        img = cv2.cvtColor(img, cv2.COLOR_BGR2RGB)\n",
    "        img = ivy.array(img, dtype=\"float32\", device=\"cpu\") ##### culprit\n",
    "        img = 2 * (img / 255) - 1\n",
    "\n",
    "        return img, self.labels[i].one_hot(len(self.label_names))\n",
    "\n",
    "\n",
    "    def __getitem__(self, i: int | slice) -> Data:\n",
    "        if isinstance(i, int):\n",
    "            return self._get_one_item(i)\n",
    "\n",
    "        image_batch = []\n",
    "        label_batch = []\n",
    "        for idx in range(len(self.images))[i]:\n",
    "            img, label = self._get_one_item(idx)\n",
    "            image_batch.append(img)\n",
    "            label_batch.append(label)\n",
    "\n",
    "        return ivy.stack(image_batch), ivy.stack(label_batch)\n"
   ]
  },
  {
   "cell_type": "code",
   "execution_count": 53,
   "id": "xTGO-oFfOH8B",
   "metadata": {
    "colab": {
     "base_uri": "https://localhost:8080/"
    },
    "executionInfo": {
     "elapsed": 43062,
     "status": "ok",
     "timestamp": 1714374425750,
     "user": {
      "displayName": "Chaitanya Lakhchaura",
      "userId": "14549145919157624375"
     },
     "user_tz": -330
    },
    "id": "xTGO-oFfOH8B",
    "outputId": "1c585019-01cf-4494-fc59-d64f908c7252"
   },
   "outputs": [
    {
     "data": {
      "text/plain": [
       "PlantVillageDataset[size=54305]"
      ]
     },
     "execution_count": 53,
     "metadata": {},
     "output_type": "execute_result"
    }
   ],
   "source": [
    "dataset = PlantVillageDataset(\"./dataset\", shuffle = False)\n",
    "dataset"
   ]
  },
  {
   "cell_type": "code",
   "execution_count": 54,
   "id": "SWWbf3hfNsex",
   "metadata": {
    "colab": {
     "base_uri": "https://localhost:8080/"
    },
    "executionInfo": {
     "elapsed": 4,
     "status": "ok",
     "timestamp": 1714374425750,
     "user": {
      "displayName": "Chaitanya Lakhchaura",
      "userId": "14549145919157624375"
     },
     "user_tz": -330
    },
    "id": "SWWbf3hfNsex",
    "outputId": "d08e23ed-9bf6-4ec1-ae7b-d682bdb92907"
   },
   "outputs": [
    {
     "data": {
      "text/plain": [
       "(PlantVillageDataset[size=48874], PlantVillageDataset[size=5431])"
      ]
     },
     "execution_count": 54,
     "metadata": {},
     "output_type": "execute_result"
    }
   ],
   "source": [
    "train_ds, test_ds = dataset.split(0.9, seed = SEED)\n",
    "train_ds, test_ds"
   ]
  },
  {
   "cell_type": "code",
   "execution_count": 55,
   "id": "KTucfAgQrByZ",
   "metadata": {
    "colab": {
     "base_uri": "https://localhost:8080/"
    },
    "executionInfo": {
     "elapsed": 798,
     "status": "ok",
     "timestamp": 1714374426546,
     "user": {
      "displayName": "Chaitanya Lakhchaura",
      "userId": "14549145919157624375"
     },
     "user_tz": -330
    },
    "id": "KTucfAgQrByZ",
    "outputId": "977d1b6b-d0f2-42a7-e34a-afa988f23a8a"
   },
   "outputs": [
    {
     "name": "stdout",
     "output_type": "stream",
     "text": [
      "ivy.Shape(256, 256, 3)\n",
      "ivy.Shape(38) \n",
      "\n",
      "ivy.Shape(5, 256, 256, 3)\n",
      "ivy.Shape(5, 38)\n"
     ]
    }
   ],
   "source": [
    "# Testing the data retrieval\n",
    "x = train_ds[5]\n",
    "print(x[0].shape)\n",
    "print(x[1].shape, \"\\n\")\n",
    "\n",
    "x = train_ds[5:10]\n",
    "print(x[0].shape)\n",
    "print(x[1].shape)"
   ]
  },
  {
   "cell_type": "code",
   "execution_count": 56,
   "id": "KBGpzYbkcg-b",
   "metadata": {
    "id": "KBGpzYbkcg-b"
   },
   "outputs": [],
   "source": [
    "class DataLoader:\n",
    "    \"Enables parallel dataloading for model training.\"\n",
    "\n",
    "    def __init__(\n",
    "        self,\n",
    "        dataset: PlantVillageDataset,\n",
    "        batch_size: int,\n",
    "        shuffle: bool = False,\n",
    "        num_workers: int = 1,\n",
    "        prefetch_factor: int = 2,\n",
    "    ):\n",
    "\n",
    "        assert num_workers > 0, \"num_workers should be >=1\"\n",
    "\n",
    "        self.dataset = dataset\n",
    "        self.batch_size = batch_size\n",
    "        self.shuffle = shuffle\n",
    "        self.workers: list[mp.Process] = []\n",
    "        self.pf_factor = prefetch_factor\n",
    "        self.input_queues: list[mp.Queue] = []\n",
    "        self.output_queue = mp.Queue()\n",
    "\n",
    "        for _ in range(num_workers):\n",
    "            input_queue = mp.Queue()\n",
    "            worker = mp.Process(target=self.worker_fn, args=(input_queue,))\n",
    "            worker.daemon = True\n",
    "            worker.start()\n",
    "            self.workers.append(worker)\n",
    "            self.input_queues.append(input_queue)\n",
    "\n",
    "\n",
    "    def worker_fn(self, input_queue: mp.Queue) -> None:\n",
    "        while True:\n",
    "            i = input_queue.get()\n",
    "            if i is None:\n",
    "                return\n",
    "            self.output_queue.put((i, self.dataset[i:i+self.batch_size]))\n",
    "\n",
    "\n",
    "    def prefetch(self) -> bool:\n",
    "        if (self.i_pf >= len(self.dataset)\n",
    "            or self.i_pf >= self.i + len(self.workers) * self.pf_factor * self.batch_size):\n",
    "            return False\n",
    "\n",
    "        self.input_queues[self.i_worker].put(self.i_pf)\n",
    "        self.i_pf += self.batch_size\n",
    "        self.i_worker = (self.i_worker + 1) % len(self.workers)\n",
    "        return True\n",
    "\n",
    "\n",
    "    def __len__(self) -> int:\n",
    "        batch_count = len(dataset) / self.batch_size\n",
    "        if batch_count % 1 == 0:\n",
    "            return int(batch_count)\n",
    "        else:\n",
    "            return int(batch_count) + 1\n",
    "\n",
    "\n",
    "    def __iter__(self):\n",
    "        self.i = 0\n",
    "        self.i_pf = 0\n",
    "        self.i_worker = 0\n",
    "        self.cache: dict[int, Data] = {}\n",
    "        if self.shuffle:\n",
    "            self.dataset.shuffle()\n",
    "        while self.prefetch():\n",
    "            pass\n",
    "        return self\n",
    "\n",
    "\n",
    "    def __next__(self):\n",
    "        if self.i >= len(self.dataset):\n",
    "            raise StopIteration\n",
    "\n",
    "        i = self.i\n",
    "        self.i += self.batch_size\n",
    "        self.prefetch()\n",
    "\n",
    "        if i in self.cache:\n",
    "            data = self.cache[i]\n",
    "            del self.cache[i]\n",
    "        else:\n",
    "            while True:\n",
    "                i_out, data = self.output_queue.get()\n",
    "                if i == i_out:\n",
    "                    break\n",
    "                else:\n",
    "                    self.cache[i_out] = data\n",
    "\n",
    "        to_device = lambda x: ivy.to_device(x, ivy.default_device())\n",
    "        return to_device(data[0]), to_device(data[1])\n",
    "\n",
    "\n",
    "    def __del__(self):\n",
    "        for i, w in enumerate(self.workers):\n",
    "            self.input_queues[i].put(None)\n",
    "            w.join(timeout=5)\n",
    "\n",
    "        for q in self.input_queues:\n",
    "            q.cancel_join_thread()\n",
    "            q.close()\n",
    "\n",
    "        self.output_queue.cancel_join_thread()\n",
    "        self.output_queue.close()\n",
    "\n",
    "        for w in self.workers:\n",
    "            if w.is_alive():\n",
    "                w.terminate()"
   ]
  },
  {
   "cell_type": "code",
   "execution_count": 57,
   "id": "rdxSoanH7AQV",
   "metadata": {
    "id": "rdxSoanH7AQV"
   },
   "outputs": [
    {
     "name": "stderr",
     "output_type": "stream",
     "text": [
      "Process Process-35:\n",
      "Process Process-33:\n",
      "Process Process-36:\n",
      "Process Process-34:\n",
      "Traceback (most recent call last):\n",
      "Traceback (most recent call last):\n",
      "Traceback (most recent call last):\n",
      "Traceback (most recent call last):\n",
      "  File \"/usr/lib/python3.10/multiprocessing/process.py\", line 314, in _bootstrap\n",
      "    self.run()\n",
      "  File \"/usr/lib/python3.10/multiprocessing/process.py\", line 314, in _bootstrap\n",
      "    self.run()\n",
      "  File \"/usr/lib/python3.10/multiprocessing/process.py\", line 314, in _bootstrap\n",
      "    self.run()\n",
      "  File \"/usr/lib/python3.10/multiprocessing/process.py\", line 314, in _bootstrap\n",
      "    self.run()\n",
      "  File \"/usr/lib/python3.10/multiprocessing/process.py\", line 108, in run\n",
      "    self._target(*self._args, **self._kwargs)\n",
      "  File \"/usr/lib/python3.10/multiprocessing/process.py\", line 108, in run\n",
      "    self._target(*self._args, **self._kwargs)\n",
      "  File \"/usr/lib/python3.10/multiprocessing/process.py\", line 108, in run\n",
      "    self._target(*self._args, **self._kwargs)\n",
      "  File \"/usr/lib/python3.10/multiprocessing/process.py\", line 108, in run\n",
      "    self._target(*self._args, **self._kwargs)\n",
      "  File \"/tmp/ipykernel_313683/1741619475.py\", line 34, in worker_fn\n",
      "    print(self.dataset[0])\n",
      "  File \"/tmp/ipykernel_313683/1741619475.py\", line 34, in worker_fn\n",
      "    print(self.dataset[0])\n",
      "  File \"/tmp/ipykernel_313683/1741619475.py\", line 34, in worker_fn\n",
      "    print(self.dataset[0])\n",
      "  File \"/tmp/ipykernel_313683/1741619475.py\", line 34, in worker_fn\n",
      "    print(self.dataset[0])\n",
      "  File \"/tmp/ipykernel_313683/2271304529.py\", line 91, in __getitem__\n",
      "    return self._get_one_item(i)\n",
      "  File \"/tmp/ipykernel_313683/2271304529.py\", line 91, in __getitem__\n",
      "    return self._get_one_item(i)\n",
      "  File \"/tmp/ipykernel_313683/2271304529.py\", line 91, in __getitem__\n",
      "    return self._get_one_item(i)\n",
      "  File \"/tmp/ipykernel_313683/2271304529.py\", line 83, in _get_one_item\n",
      "    img = ivy.array(img, dtype=\"float32\")\n",
      "  File \"/tmp/ipykernel_313683/2271304529.py\", line 91, in __getitem__\n",
      "    return self._get_one_item(i)\n",
      "  File \"/tmp/ipykernel_313683/2271304529.py\", line 83, in _get_one_item\n",
      "    img = ivy.array(img, dtype=\"float32\")\n",
      "  File \"/tmp/ipykernel_313683/2271304529.py\", line 83, in _get_one_item\n",
      "    img = ivy.array(img, dtype=\"float32\")\n",
      "  File \"/home/chaitanya/other/ivy_demos/Contributor_demos/Plant Disease Recognition/venv/lib/python3.10/site-packages/ivy/func_wrapper.py\", line 1000, in _temp_asarray_wrapper\n",
      "    return fn(*new_args, **new_kwargs)\n",
      "  File \"/tmp/ipykernel_313683/2271304529.py\", line 83, in _get_one_item\n",
      "    img = ivy.array(img, dtype=\"float32\")\n",
      "  File \"/home/chaitanya/other/ivy_demos/Contributor_demos/Plant Disease Recognition/venv/lib/python3.10/site-packages/ivy/func_wrapper.py\", line 1000, in _temp_asarray_wrapper\n",
      "    return fn(*new_args, **new_kwargs)\n",
      "  File \"/home/chaitanya/other/ivy_demos/Contributor_demos/Plant Disease Recognition/venv/lib/python3.10/site-packages/ivy/func_wrapper.py\", line 1600, in _handle_backend_invalid\n",
      "    return fn(*args, **kwargs)\n",
      "  File \"/home/chaitanya/other/ivy_demos/Contributor_demos/Plant Disease Recognition/venv/lib/python3.10/site-packages/ivy/func_wrapper.py\", line 1000, in _temp_asarray_wrapper\n",
      "    return fn(*new_args, **new_kwargs)\n",
      "  File \"/home/chaitanya/other/ivy_demos/Contributor_demos/Plant Disease Recognition/venv/lib/python3.10/site-packages/ivy/func_wrapper.py\", line 1000, in _temp_asarray_wrapper\n",
      "    return fn(*new_args, **new_kwargs)\n",
      "  File \"/home/chaitanya/other/ivy_demos/Contributor_demos/Plant Disease Recognition/venv/lib/python3.10/site-packages/ivy/func_wrapper.py\", line 373, in _handle_array_like_without_promotion\n",
      "    return fn(*args, **kwargs)\n",
      "  File \"/home/chaitanya/other/ivy_demos/Contributor_demos/Plant Disease Recognition/venv/lib/python3.10/site-packages/ivy/func_wrapper.py\", line 1600, in _handle_backend_invalid\n",
      "    return fn(*args, **kwargs)\n",
      "  File \"/home/chaitanya/other/ivy_demos/Contributor_demos/Plant Disease Recognition/venv/lib/python3.10/site-packages/ivy/func_wrapper.py\", line 1600, in _handle_backend_invalid\n",
      "    return fn(*args, **kwargs)\n",
      "  File \"/home/chaitanya/other/ivy_demos/Contributor_demos/Plant Disease Recognition/venv/lib/python3.10/site-packages/ivy/func_wrapper.py\", line 1600, in _handle_backend_invalid\n",
      "    return fn(*args, **kwargs)\n",
      "  File \"/home/chaitanya/other/ivy_demos/Contributor_demos/Plant Disease Recognition/venv/lib/python3.10/site-packages/ivy/func_wrapper.py\", line 804, in _handle_out_argument\n",
      "    return fn(*args, out=out, **kwargs)\n",
      "  File \"/home/chaitanya/other/ivy_demos/Contributor_demos/Plant Disease Recognition/venv/lib/python3.10/site-packages/ivy/func_wrapper.py\", line 373, in _handle_array_like_without_promotion\n",
      "    return fn(*args, **kwargs)\n",
      "  File \"/home/chaitanya/other/ivy_demos/Contributor_demos/Plant Disease Recognition/venv/lib/python3.10/site-packages/ivy/func_wrapper.py\", line 373, in _handle_array_like_without_promotion\n",
      "    return fn(*args, **kwargs)\n",
      "  File \"/home/chaitanya/other/ivy_demos/Contributor_demos/Plant Disease Recognition/venv/lib/python3.10/site-packages/ivy/func_wrapper.py\", line 373, in _handle_array_like_without_promotion\n",
      "    return fn(*args, **kwargs)\n",
      "  File \"/home/chaitanya/other/ivy_demos/Contributor_demos/Plant Disease Recognition/venv/lib/python3.10/site-packages/ivy/func_wrapper.py\", line 804, in _handle_out_argument\n",
      "    return fn(*args, out=out, **kwargs)\n",
      "  File \"/home/chaitanya/other/ivy_demos/Contributor_demos/Plant Disease Recognition/venv/lib/python3.10/site-packages/ivy/func_wrapper.py\", line 328, in _handle_array_function\n",
      "    return fn(*args, **kwargs)\n",
      "  File \"/home/chaitanya/other/ivy_demos/Contributor_demos/Plant Disease Recognition/venv/lib/python3.10/site-packages/ivy/func_wrapper.py\", line 804, in _handle_out_argument\n",
      "    return fn(*args, out=out, **kwargs)\n",
      "  File \"/home/chaitanya/other/ivy_demos/Contributor_demos/Plant Disease Recognition/venv/lib/python3.10/site-packages/ivy/func_wrapper.py\", line 759, in _handle_device\n",
      "    with ivy.DefaultDevice(ivy.default_device(dst_dev)):\n",
      "  File \"/home/chaitanya/other/ivy_demos/Contributor_demos/Plant Disease Recognition/venv/lib/python3.10/site-packages/ivy/func_wrapper.py\", line 328, in _handle_array_function\n",
      "    return fn(*args, **kwargs)\n",
      "  File \"/home/chaitanya/other/ivy_demos/Contributor_demos/Plant Disease Recognition/venv/lib/python3.10/site-packages/ivy/func_wrapper.py\", line 328, in _handle_array_function\n",
      "    return fn(*args, **kwargs)\n",
      "  File \"/home/chaitanya/other/ivy_demos/Contributor_demos/Plant Disease Recognition/venv/lib/python3.10/site-packages/ivy/functional/ivy/device.py\", line 133, in __exit__\n",
      "    raise exc_val\n",
      "  File \"/home/chaitanya/other/ivy_demos/Contributor_demos/Plant Disease Recognition/venv/lib/python3.10/site-packages/ivy/func_wrapper.py\", line 759, in _handle_device\n",
      "    with ivy.DefaultDevice(ivy.default_device(dst_dev)):\n",
      "  File \"/home/chaitanya/other/ivy_demos/Contributor_demos/Plant Disease Recognition/venv/lib/python3.10/site-packages/ivy/func_wrapper.py\", line 759, in _handle_device\n",
      "    with ivy.DefaultDevice(ivy.default_device(dst_dev)):\n",
      "  File \"/home/chaitanya/other/ivy_demos/Contributor_demos/Plant Disease Recognition/venv/lib/python3.10/site-packages/ivy/func_wrapper.py\", line 804, in _handle_out_argument\n",
      "    return fn(*args, out=out, **kwargs)\n",
      "  File \"/home/chaitanya/other/ivy_demos/Contributor_demos/Plant Disease Recognition/venv/lib/python3.10/site-packages/ivy/functional/ivy/device.py\", line 133, in __exit__\n",
      "    raise exc_val\n",
      "  File \"/home/chaitanya/other/ivy_demos/Contributor_demos/Plant Disease Recognition/venv/lib/python3.10/site-packages/ivy/func_wrapper.py\", line 760, in _handle_device\n",
      "    return ivy.handle_soft_device_variable(*args, fn=fn, **kwargs)\n",
      "  File \"/home/chaitanya/other/ivy_demos/Contributor_demos/Plant Disease Recognition/venv/lib/python3.10/site-packages/ivy/functional/ivy/device.py\", line 133, in __exit__\n",
      "    raise exc_val\n",
      "  File \"/home/chaitanya/other/ivy_demos/Contributor_demos/Plant Disease Recognition/venv/lib/python3.10/site-packages/ivy/func_wrapper.py\", line 328, in _handle_array_function\n",
      "    return fn(*args, **kwargs)\n",
      "  File \"/home/chaitanya/other/ivy_demos/Contributor_demos/Plant Disease Recognition/venv/lib/python3.10/site-packages/ivy/functional/backends/torch/device.py\", line 121, in handle_soft_device_variable\n",
      "    return fn(*args, **kwargs)\n",
      "  File \"/home/chaitanya/other/ivy_demos/Contributor_demos/Plant Disease Recognition/venv/lib/python3.10/site-packages/ivy/func_wrapper.py\", line 760, in _handle_device\n",
      "    return ivy.handle_soft_device_variable(*args, fn=fn, **kwargs)\n",
      "  File \"/home/chaitanya/other/ivy_demos/Contributor_demos/Plant Disease Recognition/venv/lib/python3.10/site-packages/ivy/func_wrapper.py\", line 760, in _handle_device\n",
      "    return ivy.handle_soft_device_variable(*args, fn=fn, **kwargs)\n",
      "  File \"/home/chaitanya/other/ivy_demos/Contributor_demos/Plant Disease Recognition/venv/lib/python3.10/site-packages/ivy/func_wrapper.py\", line 1198, in method\n",
      "    ivy.astype(fn(*args, **kwargs), ivy.to_native(to_cast))\n",
      "  File \"/home/chaitanya/other/ivy_demos/Contributor_demos/Plant Disease Recognition/venv/lib/python3.10/site-packages/ivy/functional/backends/torch/device.py\", line 121, in handle_soft_device_variable\n",
      "    return fn(*args, **kwargs)\n",
      "  File \"/home/chaitanya/other/ivy_demos/Contributor_demos/Plant Disease Recognition/venv/lib/python3.10/site-packages/ivy/func_wrapper.py\", line 759, in _handle_device\n",
      "    with ivy.DefaultDevice(ivy.default_device(dst_dev)):\n",
      "  File \"/home/chaitanya/other/ivy_demos/Contributor_demos/Plant Disease Recognition/venv/lib/python3.10/site-packages/ivy/functional/ivy/creation.py\", line 154, in _asarray_to_native_arrays_and_back_wrapper\n",
      "    return to_ivy(fn(*new_args, dtype=dtype, **kwargs))\n",
      "  File \"/home/chaitanya/other/ivy_demos/Contributor_demos/Plant Disease Recognition/venv/lib/python3.10/site-packages/ivy/functional/backends/torch/device.py\", line 121, in handle_soft_device_variable\n",
      "    return fn(*args, **kwargs)\n",
      "  File \"/home/chaitanya/other/ivy_demos/Contributor_demos/Plant Disease Recognition/venv/lib/python3.10/site-packages/ivy/func_wrapper.py\", line 1198, in method\n",
      "    ivy.astype(fn(*args, **kwargs), ivy.to_native(to_cast))\n",
      "  File \"/home/chaitanya/other/ivy_demos/Contributor_demos/Plant Disease Recognition/venv/lib/python3.10/site-packages/ivy/functional/ivy/creation.py\", line 249, in _asarray_infer_device_wrapper\n",
      "    return fn(*args, device=device, **kwargs)\n",
      "  File \"/home/chaitanya/other/ivy_demos/Contributor_demos/Plant Disease Recognition/venv/lib/python3.10/site-packages/ivy/functional/ivy/creation.py\", line 154, in _asarray_to_native_arrays_and_back_wrapper\n",
      "    return to_ivy(fn(*new_args, dtype=dtype, **kwargs))\n",
      "  File \"/home/chaitanya/other/ivy_demos/Contributor_demos/Plant Disease Recognition/venv/lib/python3.10/site-packages/ivy/func_wrapper.py\", line 1198, in method\n",
      "    ivy.astype(fn(*args, **kwargs), ivy.to_native(to_cast))\n",
      "  File \"/home/chaitanya/other/ivy_demos/Contributor_demos/Plant Disease Recognition/venv/lib/python3.10/site-packages/ivy/functional/ivy/device.py\", line 133, in __exit__\n",
      "    raise exc_val\n",
      "  File \"/home/chaitanya/other/ivy_demos/Contributor_demos/Plant Disease Recognition/venv/lib/python3.10/site-packages/ivy/functional/ivy/creation.py\", line 71, in _asarray_handle_nestable_wrapper\n",
      "    return fn(*args, **kwargs)\n",
      "  File \"/home/chaitanya/other/ivy_demos/Contributor_demos/Plant Disease Recognition/venv/lib/python3.10/site-packages/ivy/functional/ivy/creation.py\", line 249, in _asarray_infer_device_wrapper\n",
      "    return fn(*args, device=device, **kwargs)\n",
      "  File \"/home/chaitanya/other/ivy_demos/Contributor_demos/Plant Disease Recognition/venv/lib/python3.10/site-packages/ivy/func_wrapper.py\", line 760, in _handle_device\n",
      "    return ivy.handle_soft_device_variable(*args, fn=fn, **kwargs)\n",
      "  File \"/home/chaitanya/other/ivy_demos/Contributor_demos/Plant Disease Recognition/venv/lib/python3.10/site-packages/ivy/functional/ivy/creation.py\", line 71, in _asarray_handle_nestable_wrapper\n",
      "    return fn(*args, **kwargs)\n",
      "  File \"/home/chaitanya/other/ivy_demos/Contributor_demos/Plant Disease Recognition/venv/lib/python3.10/site-packages/ivy/functional/ivy/creation.py\", line 260, in _inputs_to_native_shapes\n",
      "    return fn(*new_args, **kwargs)\n",
      "  File \"/home/chaitanya/other/ivy_demos/Contributor_demos/Plant Disease Recognition/venv/lib/python3.10/site-packages/ivy/functional/ivy/creation.py\", line 154, in _asarray_to_native_arrays_and_back_wrapper\n",
      "    return to_ivy(fn(*new_args, dtype=dtype, **kwargs))\n",
      "  File \"/home/chaitanya/other/ivy_demos/Contributor_demos/Plant Disease Recognition/venv/lib/python3.10/site-packages/ivy/functional/backends/torch/device.py\", line 121, in handle_soft_device_variable\n",
      "    return fn(*args, **kwargs)\n",
      "  File \"/home/chaitanya/other/ivy_demos/Contributor_demos/Plant Disease Recognition/venv/lib/python3.10/site-packages/ivy/functional/ivy/creation.py\", line 260, in _inputs_to_native_shapes\n",
      "    return fn(*new_args, **kwargs)\n",
      "  File \"/home/chaitanya/other/ivy_demos/Contributor_demos/Plant Disease Recognition/venv/lib/python3.10/site-packages/ivy/functional/ivy/creation.py\", line 211, in _asarray_infer_dtype_wrapper\n",
      "    return fn(*args, dtype=dtype, **kwargs)\n",
      "  File \"/home/chaitanya/other/ivy_demos/Contributor_demos/Plant Disease Recognition/venv/lib/python3.10/site-packages/ivy/functional/ivy/creation.py\", line 249, in _asarray_infer_device_wrapper\n",
      "    return fn(*args, device=device, **kwargs)\n",
      "  File \"/home/chaitanya/other/ivy_demos/Contributor_demos/Plant Disease Recognition/venv/lib/python3.10/site-packages/ivy/func_wrapper.py\", line 1198, in method\n",
      "    ivy.astype(fn(*args, **kwargs), ivy.to_native(to_cast))\n",
      "  File \"/home/chaitanya/other/ivy_demos/Contributor_demos/Plant Disease Recognition/venv/lib/python3.10/site-packages/ivy/functional/ivy/creation.py\", line 211, in _asarray_infer_dtype_wrapper\n",
      "    return fn(*args, dtype=dtype, **kwargs)\n",
      "  File \"/home/chaitanya/other/ivy_demos/Contributor_demos/Plant Disease Recognition/venv/lib/python3.10/site-packages/ivy/functional/backends/torch/creation.py\", line 131, in asarray\n",
      "    ret = torch.as_tensor(obj, dtype=dtype, device=device)\n",
      "  File \"/home/chaitanya/other/ivy_demos/Contributor_demos/Plant Disease Recognition/venv/lib/python3.10/site-packages/ivy/functional/ivy/creation.py\", line 71, in _asarray_handle_nestable_wrapper\n",
      "    return fn(*args, **kwargs)\n",
      "  File \"/home/chaitanya/other/ivy_demos/Contributor_demos/Plant Disease Recognition/venv/lib/python3.10/site-packages/ivy/functional/backends/torch/creation.py\", line 131, in asarray\n",
      "    ret = torch.as_tensor(obj, dtype=dtype, device=device)\n",
      "  File \"/home/chaitanya/other/ivy_demos/Contributor_demos/Plant Disease Recognition/venv/lib/python3.10/site-packages/ivy/functional/ivy/creation.py\", line 154, in _asarray_to_native_arrays_and_back_wrapper\n",
      "    return to_ivy(fn(*new_args, dtype=dtype, **kwargs))\n",
      "  File \"/home/chaitanya/other/ivy_demos/Contributor_demos/Plant Disease Recognition/venv/lib/python3.10/site-packages/torch/cuda/__init__.py\", line 279, in _lazy_init\n",
      "    raise RuntimeError(\n",
      "  File \"/home/chaitanya/other/ivy_demos/Contributor_demos/Plant Disease Recognition/venv/lib/python3.10/site-packages/ivy/functional/ivy/creation.py\", line 260, in _inputs_to_native_shapes\n",
      "    return fn(*new_args, **kwargs)\n",
      "  File \"/home/chaitanya/other/ivy_demos/Contributor_demos/Plant Disease Recognition/venv/lib/python3.10/site-packages/torch/cuda/__init__.py\", line 279, in _lazy_init\n",
      "    raise RuntimeError(\n",
      "  File \"/home/chaitanya/other/ivy_demos/Contributor_demos/Plant Disease Recognition/venv/lib/python3.10/site-packages/ivy/functional/ivy/creation.py\", line 249, in _asarray_infer_device_wrapper\n",
      "    return fn(*args, device=device, **kwargs)\n",
      "RuntimeError: Cannot re-initialize CUDA in forked subprocess. To use CUDA with multiprocessing, you must use the 'spawn' start method\n",
      "  File \"/home/chaitanya/other/ivy_demos/Contributor_demos/Plant Disease Recognition/venv/lib/python3.10/site-packages/ivy/functional/ivy/creation.py\", line 211, in _asarray_infer_dtype_wrapper\n",
      "    return fn(*args, dtype=dtype, **kwargs)\n",
      "RuntimeError: Cannot re-initialize CUDA in forked subprocess. To use CUDA with multiprocessing, you must use the 'spawn' start method\n",
      "  File \"/home/chaitanya/other/ivy_demos/Contributor_demos/Plant Disease Recognition/venv/lib/python3.10/site-packages/ivy/functional/ivy/creation.py\", line 71, in _asarray_handle_nestable_wrapper\n",
      "    return fn(*args, **kwargs)\n",
      "  File \"/home/chaitanya/other/ivy_demos/Contributor_demos/Plant Disease Recognition/venv/lib/python3.10/site-packages/ivy/functional/backends/torch/creation.py\", line 131, in asarray\n",
      "    ret = torch.as_tensor(obj, dtype=dtype, device=device)\n",
      "  File \"/home/chaitanya/other/ivy_demos/Contributor_demos/Plant Disease Recognition/venv/lib/python3.10/site-packages/ivy/functional/ivy/creation.py\", line 260, in _inputs_to_native_shapes\n",
      "    return fn(*new_args, **kwargs)\n",
      "  File \"/home/chaitanya/other/ivy_demos/Contributor_demos/Plant Disease Recognition/venv/lib/python3.10/site-packages/torch/cuda/__init__.py\", line 279, in _lazy_init\n",
      "    raise RuntimeError(\n",
      "  File \"/home/chaitanya/other/ivy_demos/Contributor_demos/Plant Disease Recognition/venv/lib/python3.10/site-packages/ivy/functional/ivy/creation.py\", line 211, in _asarray_infer_dtype_wrapper\n",
      "    return fn(*args, dtype=dtype, **kwargs)\n",
      "RuntimeError: Cannot re-initialize CUDA in forked subprocess. To use CUDA with multiprocessing, you must use the 'spawn' start method\n",
      "  File \"/home/chaitanya/other/ivy_demos/Contributor_demos/Plant Disease Recognition/venv/lib/python3.10/site-packages/ivy/functional/backends/torch/creation.py\", line 131, in asarray\n",
      "    ret = torch.as_tensor(obj, dtype=dtype, device=device)\n",
      "  File \"/home/chaitanya/other/ivy_demos/Contributor_demos/Plant Disease Recognition/venv/lib/python3.10/site-packages/torch/cuda/__init__.py\", line 279, in _lazy_init\n",
      "    raise RuntimeError(\n",
      "RuntimeError: Cannot re-initialize CUDA in forked subprocess. To use CUDA with multiprocessing, you must use the 'spawn' start method\n"
     ]
    }
   ],
   "source": [
    "# Creating DataLoaders\n",
    "BATCH_SIZE = 4\n",
    "NUM_WORKERS = 2\n",
    "\n",
    "train_dl = DataLoader(train_ds, BATCH_SIZE, True, NUM_WORKERS)\n",
    "test_dl = DataLoader(test_ds, BATCH_SIZE, False, NUM_WORKERS)"
   ]
  },
  {
   "cell_type": "code",
   "execution_count": null,
   "id": "k6V1k-7C9Gam",
   "metadata": {
    "id": "k6V1k-7C9Gam"
   },
   "outputs": [],
   "source": [
    "train_dl = iter(train_dl)\n",
    "for _ in range(2):\n",
    "    x, y = next(train_dl)\n",
    "    print(x.shape, y.shape, ivy.dev(x))\n",
    "\n",
    "test_dl = iter(test_dl)\n",
    "for _ in range(2):\n",
    "    x, y = next(test_dl)\n",
    "    print(x.shape, y.shape, ivy.dev(y))"
   ]
  },
  {
   "cell_type": "markdown",
   "id": "Gq8-kvlVuFio",
   "metadata": {
    "id": "Gq8-kvlVuFio"
   },
   "source": [
    "## Model Building"
   ]
  },
  {
   "cell_type": "code",
   "execution_count": null,
   "id": "a309f352-c807-4a2f-bc59-3c0edd4e36f7",
   "metadata": {
    "id": "a309f352-c807-4a2f-bc59-3c0edd4e36f7"
   },
   "outputs": [],
   "source": [
    "class PlantDiseaseRecogniser(ivy.Module):\n",
    "    \"Plant Disease Recognition model for 256x256 images.\"\n",
    "\n",
    "    def __init__(self, num_classes: int):\n",
    "        kernal_size = [3, 3]\n",
    "        self.cnn = ivy.Sequential(\n",
    "            ivy.Conv2D(3, 8, kernal_size, 1, \"same\"),\n",
    "            ivy.BatchNorm2D(8),\n",
    "            ivy.LeakyReLU(0.2),\n",
    "            ivy.MaxPool2D((2,2), 2, 0),\n",
    "            ivy.Conv2D(8, 32, kernal_size, 1, \"same\"),\n",
    "            ivy.BatchNorm2D(32),\n",
    "            ivy.LeakyReLU(0.2),\n",
    "            ivy.MaxPool2D((2,2), 2, 0),\n",
    "            ivy.Conv2D(32, 64, kernal_size, 1, \"same\"),\n",
    "            ivy.BatchNorm2D(64),\n",
    "            ivy.LeakyReLU(0.2),\n",
    "            ivy.MaxPool2D((2,2), 2, 0),\n",
    "            ivy.Conv2D(64, 128, kernal_size, 1, \"same\"),\n",
    "            ivy.BatchNorm2D(128),\n",
    "            ivy.LeakyReLU(0.2),\n",
    "            ivy.MaxPool2D((2,2), 2, 0),\n",
    "            ivy.Conv2D(128, 128, kernal_size, 1, \"same\"),\n",
    "            ivy.BatchNorm2D(128),\n",
    "            ivy.LeakyReLU(0.2),\n",
    "        )\n",
    "\n",
    "        self.fc = ivy.Sequential(\n",
    "            ivy.Linear(32768, 1000),\n",
    "            ivy.LeakyReLU(0.2),\n",
    "            ivy.Dropout(0.2),\n",
    "            ivy.Linear(1000, num_classes),\n",
    "        )\n",
    "\n",
    "        self.loss_func = ivy.CrossEntropyLoss()\n",
    "        self.optimizer = ivy.Adam()\n",
    "\n",
    "        super().__init__()\n",
    "\n",
    "\n",
    "    def train_model(\n",
    "        self,\n",
    "        train_dl: DataLoader,\n",
    "        test_dl: DataLoader,\n",
    "        ckpt_path: str,\n",
    "        learning_rate: float | None = None,\n",
    "        epochs: int | None = None\n",
    "    ) -> None:\n",
    "        \"\"\"\n",
    "        Train the model on PlantVillageDataset.\n",
    "\n",
    "        Args:\n",
    "            train_data: dataset for training the model.\n",
    "            test_data: dataset for testing the model.\n",
    "            ckpt_path: Directory path where checkpoints will be saved\n",
    "            learning_rate: learning rate while training\n",
    "            epochs: No. of training epochs\n",
    "        \"\"\"\n",
    "\n",
    "        os.makedirs(ckpt_path, exist_ok=True)\n",
    "        append_to_ckpt = lambda x: os.path.join(ckpt_path, x)\n",
    "\n",
    "        best_ckpt = append_to_ckpt(\"best.pt\")\n",
    "        last_ckpt = append_to_ckpt(\"last.pt\")\n",
    "        run_json_path = append_to_ckpt(\"training.json\")\n",
    "\n",
    "        if os.path.exists(run_json_path):\n",
    "            with open(run_json_path, 'r') as f:\n",
    "                run = json.load(f)\n",
    "        else:\n",
    "            if learning_rate is None or epochs is None:\n",
    "                raise ValueError(\"learning_rate and epochs must be\"\n",
    "                    \"set if previous run json does not exist\")\n",
    "\n",
    "            run = {'lr': 0, \"epochs\": 0, \"last_epoch\": 0, # epochs start from 1\n",
    "                   \"train_losses\": [], \"test_losses\": []}\n",
    "\n",
    "        if learning_rate is not None: run[\"lr\"] = learning_rate\n",
    "        if epochs is not None: run[\"epochs\"] = epochs\n",
    "\n",
    "        self.optimizer._lr = run[\"lr\"]\n",
    "\n",
    "        if os.path.exists(last_ckpt): self.load_model(last_ckpt)\n",
    "\n",
    "        calc = AverageCalculator()\n",
    "        if len(run[\"test_losses\"]) == 0:\n",
    "            least_loss = 100.\n",
    "        else:\n",
    "            least_loss = min(run[\"test_losses\"])\n",
    "        print(f\"Lowest test loss yet: {least_loss}\")\n",
    "\n",
    "        for epoch in range(run[\"last_epoch\"]+1, run[\"epochs\"]+1):\n",
    "            print(f\"\\nEpoch {epoch}/{run['epochs']}:\")\n",
    "\n",
    "            self.train(True)\n",
    "            for data in tqdm(train_dl):\n",
    "                loss, grads = ivy.execute_with_gradients(\n",
    "                    lambda x: self.calculate_loss(*x),\n",
    "                    (*data, self.v),\n",
    "                    xs_grad_idxs = [[2]],\n",
    "                )\n",
    "                self.v = self.optimizer.step(self.v, grads)\n",
    "                calc.update(loss.item(), data[0].shape[0])\n",
    "\n",
    "            run[\"train_losses\"].append(calc.avg())\n",
    "            calc.reset()\n",
    "            print(\"Training Loss:\", run[\"train_losses\"][-1])\n",
    "\n",
    "            self.train(False)\n",
    "            for data in tqdm(test_dl):\n",
    "                loss = self.calculate_loss(*data)\n",
    "                calc.update(loss.item(), data[0].shape[0])\n",
    "\n",
    "            run[\"test_losses\"].append(calc.avg())\n",
    "            calc.reset()\n",
    "            print(\"Testing Loss:\", run[\"test_losses\"][-1])\n",
    "\n",
    "            if run[\"test_losses\"][-1] < least_loss:\n",
    "                self.save(best_ckpt)\n",
    "                least_loss = run[\"test_losses\"][-1]\n",
    "                print(\"New best model saved!\")\n",
    "\n",
    "            self.save(last_ckpt)\n",
    "\n",
    "            run[\"last_epoch\"] = epoch\n",
    "            with open(run_json_path, 'w') as f:\n",
    "                json.dump(run, f, indent=4)\n",
    "\n",
    "        print(\"\\nTraining complete!\")\n",
    "\n",
    "\n",
    "    def _forward(self, X: ivy.Array, training: bool = False) -> ivy.Array:\n",
    "        out = self.cnn(X).flatten(start_dim=1)\n",
    "        out = self.fc(out)\n",
    "        if not training:\n",
    "            out = out.argmax(axis=1)\n",
    "        return out.softmax(axis=1)\n",
    "\n",
    "\n",
    "    def calculate_loss(\n",
    "        self,\n",
    "        inputs: ivy.Array,\n",
    "        targets: ivy.Array,\n",
    "        variables: ivy.Container = None,\n",
    "    ) -> ivy.Array:\n",
    "\n",
    "        preds = self(inputs, training=True, v=variables)\n",
    "        losses = self.loss_func(targets, preds)\n",
    "        return losses.mean()\n",
    "\n",
    "\n",
    "    def load_model(self, model_path: str):\n",
    "        self.__dict__.update(self.load(model_path).__dict__)"
   ]
  },
  {
   "cell_type": "markdown",
   "id": "X6Mxx7qRNja-",
   "metadata": {
    "id": "X6Mxx7qRNja-"
   },
   "source": [
    "## Model Training"
   ]
  },
  {
   "cell_type": "code",
   "execution_count": null,
   "id": "eD5upbCGNnC7",
   "metadata": {
    "id": "eD5upbCGNnC7"
   },
   "outputs": [],
   "source": [
    "model = PlantDiseaseRecogniser(38)"
   ]
  },
  {
   "cell_type": "code",
   "execution_count": null,
   "id": "7EUDjsDIr0o5",
   "metadata": {
    "id": "7EUDjsDIr0o5"
   },
   "outputs": [],
   "source": [
    "model.train_model(train_dl, test_dl,\n",
    "                  ckpt_path=\"./model\",\n",
    "                  learning_rate=0.001,\n",
    "                  epochs=10)"
   ]
  },
  {
   "cell_type": "code",
   "execution_count": null,
   "id": "BpnFI2vjqDoU",
   "metadata": {
    "id": "BpnFI2vjqDoU"
   },
   "outputs": [],
   "source": []
  }
 ],
 "metadata": {
  "colab": {
   "collapsed_sections": [
    "h7jHt72MpLys"
   ],
   "provenance": []
  },
  "kernelspec": {
   "display_name": "Python 3 (ipykernel)",
   "language": "python",
   "name": "python3"
  },
  "language_info": {
   "codemirror_mode": {
    "name": "ipython",
    "version": 3
   },
   "file_extension": ".py",
   "mimetype": "text/x-python",
   "name": "python",
   "nbconvert_exporter": "python",
   "pygments_lexer": "ipython3",
   "version": "3.10.12"
  }
 },
 "nbformat": 4,
 "nbformat_minor": 5
}
