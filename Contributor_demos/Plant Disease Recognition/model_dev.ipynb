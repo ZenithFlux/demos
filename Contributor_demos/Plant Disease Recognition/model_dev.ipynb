{
 "cells": [
  {
   "cell_type": "markdown",
   "id": "89d999ea-387b-435e-ba13-915cf243d1a6",
   "metadata": {},
   "source": [
    "# Plant Disease Recognition"
   ]
  },
  {
   "cell_type": "code",
   "execution_count": 1,
   "id": "77ba8610-0bf4-4b95-b828-002eaa659b27",
   "metadata": {},
   "outputs": [],
   "source": [
    "import ivy"
   ]
  },
  {
   "cell_type": "code",
   "execution_count": 2,
   "id": "702f0601-21c7-4e76-93ae-88b93eb5ec96",
   "metadata": {},
   "outputs": [
    {
     "data": {
      "text/plain": [
       "<module 'ivy.functional.backends.torch' from '/home/chaitanya/other/ivy/ivy/functional/backends/torch/__init__.py'>"
      ]
     },
     "execution_count": 2,
     "metadata": {},
     "output_type": "execute_result"
    }
   ],
   "source": [
    "ivy.set_backend(\"torch\")"
   ]
  },
  {
   "cell_type": "code",
   "execution_count": null,
   "id": "a309f352-c807-4a2f-bc59-3c0edd4e36f7",
   "metadata": {},
   "outputs": [],
   "source": [
    "class PlantDiseaseRecogniser(ivy.Module):\n",
    "    \"Plant Disease Recognition model for 256x256 images.\"\n",
    "    \n",
    "    def __init__(self, num_classes: int):\n",
    "        kernal_size = (3, 3)\n",
    "        self.cnn = ivy.Sequential(\n",
    "            ivy.Conv2D(3, 8, kernal_size, 1, \"same\"),\n",
    "            ivy.BatchNorm2D(8),\n",
    "            ivy.LeakyReLU(0.2),\n",
    "            ivy.MaxPool2D((2,2), 2, 0),\n",
    "            ivy.Conv2D(8, 32, kernal_size, 1, \"same\"),\n",
    "            ivy.BatchNorm2D(32),\n",
    "            ivy.LeakyReLU(0.2),\n",
    "            ivy.MaxPool2D((2,2), 2, 0),\n",
    "            ivy.Conv2D(32, 64, kernal_size, 1, \"same\"),\n",
    "            ivy.BatchNorm2D(64),\n",
    "            ivy.LeakyReLU(0.2),\n",
    "            ivy.MaxPool2D((2,2), 2, 0),\n",
    "            ivy.Conv2D(64, 128, kernal_size, 1, \"same\"),\n",
    "            ivy.BatchNorm2D(128),\n",
    "            ivy.LeakyReLU(0.2),\n",
    "            ivy.MaxPool2D((2,2), 2, 0),\n",
    "            ivy.Conv2D(128, 128, kernal_size, 1, \"same\"),\n",
    "            ivy.BatchNorm2D(128),\n",
    "            ivy.LeakyReLU(0.2),\n",
    "        )\n",
    "\n",
    "        self.fc = ivy.Sequential(\n",
    "            ivy.Linear(32768, 1000),\n",
    "            ivy.LeakyReLU(0.2),\n",
    "            ivy.Dropout(0.2),\n",
    "            ivy.Linear(1000, num_classes),\n",
    "        )\n",
    "\n",
    "        self.output_actv = ivy.Softmax()\n",
    "        self.loss = ivy.CrossEntropyLoss()\n",
    "        self.optimizer = ivy.Adam()\n",
    "            \n",
    "        super().__init__()"
   ]
  }
 ],
 "metadata": {
  "kernelspec": {
   "display_name": "Python 3 (ipykernel)",
   "language": "python",
   "name": "python3"
  },
  "language_info": {
   "codemirror_mode": {
    "name": "ipython",
    "version": 3
   },
   "file_extension": ".py",
   "mimetype": "text/x-python",
   "name": "python",
   "nbconvert_exporter": "python",
   "pygments_lexer": "ipython3",
   "version": "3.11.5"
  }
 },
 "nbformat": 4,
 "nbformat_minor": 5
}
