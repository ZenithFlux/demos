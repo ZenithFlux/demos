{
 "cells": [
  {
   "cell_type": "markdown",
   "id": "89d999ea-387b-435e-ba13-915cf243d1a6",
   "metadata": {
    "id": "89d999ea-387b-435e-ba13-915cf243d1a6"
   },
   "source": [
    "# Plant Disease Recognition"
   ]
  },
  {
   "cell_type": "code",
   "execution_count": 1,
   "id": "zKlMQVuHaMmT",
   "metadata": {
    "colab": {
     "base_uri": "https://localhost:8080/"
    },
    "executionInfo": {
     "elapsed": 61295,
     "status": "ok",
     "timestamp": 1714374375095,
     "user": {
      "displayName": "Chaitanya Lakhchaura",
      "userId": "14549145919157624375"
     },
     "user_tz": -330
    },
    "id": "zKlMQVuHaMmT",
    "outputId": "e0f8a9cf-9e94-408b-f255-4ed08b6555b0"
   },
   "outputs": [],
   "source": [
    "# Setting up the project\n",
    "# !git clone -n --depth 1 --filter tree:0 https://github.com/spMohanty/PlantVillage-Dataset.git ./dataset\n",
    "# !cd ./dataset && git sparse-checkout set raw/color && git checkout\n",
    "# !pip install ivy"
   ]
  },
  {
   "cell_type": "code",
   "execution_count": 2,
   "id": "77ba8610-0bf4-4b95-b828-002eaa659b27",
   "metadata": {
    "id": "77ba8610-0bf4-4b95-b828-002eaa659b27"
   },
   "outputs": [],
   "source": [
    "import os\n",
    "import json\n",
    "import glob\n",
    "import multiprocessing as mp\n",
    "from typing import TypeAlias\n",
    "\n",
    "import ivy\n",
    "import torch\n",
    "from torch.utils.data import DataLoader, Dataset\n",
    "import torch.nn.functional as F\n",
    "import cv2\n",
    "import numpy as np\n",
    "from tqdm.notebook import tqdm"
   ]
  },
  {
   "cell_type": "code",
   "execution_count": 3,
   "id": "702f0601-21c7-4e76-93ae-88b93eb5ec96",
   "metadata": {
    "id": "702f0601-21c7-4e76-93ae-88b93eb5ec96"
   },
   "outputs": [],
   "source": [
    "ivy.set_backend(\"torch\")\n",
    "ivy.set_default_device(\"gpu:0\" if ivy.gpu_is_available() else \"cpu\")"
   ]
  },
  {
   "cell_type": "code",
   "execution_count": 4,
   "id": "C4Xakngce51m",
   "metadata": {
    "colab": {
     "base_uri": "https://localhost:8080/",
     "height": 36
    },
    "executionInfo": {
     "elapsed": 11,
     "status": "ok",
     "timestamp": 1714374382695,
     "user": {
      "displayName": "Chaitanya Lakhchaura",
      "userId": "14549145919157624375"
     },
     "user_tz": -330
    },
    "id": "C4Xakngce51m",
    "outputId": "94490515-8e94-47e1-e342-2833c149ab0e"
   },
   "outputs": [
    {
     "data": {
      "text/plain": [
       "'gpu:0'"
      ]
     },
     "execution_count": 4,
     "metadata": {},
     "output_type": "execute_result"
    }
   ],
   "source": [
    "ivy.default_device()"
   ]
  },
  {
   "cell_type": "code",
   "execution_count": 5,
   "id": "kqJGoawLvPU1",
   "metadata": {
    "id": "kqJGoawLvPU1"
   },
   "outputs": [],
   "source": [
    "# Constants\n",
    "SEED = 8753"
   ]
  },
  {
   "cell_type": "markdown",
   "id": "h7jHt72MpLys",
   "metadata": {
    "id": "h7jHt72MpLys"
   },
   "source": [
    "## Utils"
   ]
  },
  {
   "cell_type": "code",
   "execution_count": 6,
   "id": "s2aGWfo0ZH9l",
   "metadata": {
    "id": "s2aGWfo0ZH9l"
   },
   "outputs": [],
   "source": [
    "# Utils\n",
    "\n",
    "class AverageCalculator:\n",
    "    def __init__(self):\n",
    "        self.reset()\n",
    "\n",
    "    def update(self, num, count=1):\n",
    "        self.count += count\n",
    "        self.sum += num * count\n",
    "\n",
    "    def avg(self):\n",
    "        return self.sum/self.count\n",
    "\n",
    "    def reset(self):\n",
    "        self.sum = self.count = 0.0"
   ]
  },
  {
   "cell_type": "markdown",
   "id": "Rx3XjNIikxLS",
   "metadata": {
    "id": "Rx3XjNIikxLS"
   },
   "source": [
    "## Creating Dataset and DataLoader"
   ]
  },
  {
   "cell_type": "code",
   "execution_count": 7,
   "id": "M1KpONExlDep",
   "metadata": {
    "id": "M1KpONExlDep"
   },
   "outputs": [],
   "source": [
    "Data: TypeAlias = tuple[ivy.Array, ivy.Array]\n",
    "\n",
    "class PlantVillageDataset(Dataset):\n",
    "    \"\"\"Represents the PlantVillage Dataset\"\"\"\n",
    "\n",
    "    IMG_SHAPE = (256, 256, 3)\n",
    "\n",
    "    def __init__(self, dataset_path: str | None, seed: int | None = None):\n",
    "        \"\"\"\n",
    "        Args:\n",
    "            dataset_path: Path to the local PlantVillage repo\n",
    "        \"\"\"\n",
    "\n",
    "        if dataset_path is None:\n",
    "            return\n",
    "\n",
    "        disease_folders_path = os.path.join(dataset_path, \"raw/color\")\n",
    "        disease_folders = glob.glob(os.path.join(disease_folders_path, \"*\"))\n",
    "        self.label_names = [os.path.basename(x) for x in disease_folders]\n",
    "\n",
    "        images = []\n",
    "        labels = []\n",
    "        for i, label_text in enumerate(self.label_names):\n",
    "            imgs_path = glob.glob(os.path.join(disease_folders_path, label_text, \"*\"))\n",
    "            images += imgs_path\n",
    "            labels += [i] * len(imgs_path)\n",
    "\n",
    "        self.images = np.array(images)\n",
    "        self.labels = torch.tensor(labels)\n",
    "        self.labels = F.one_hot(self.labels)\n",
    "\n",
    "        assert self.labels.shape[1] == 38, \"Wrong one-hot on labels\"\n",
    "        assert len(self.images) == len(self.labels), \\\n",
    "            \"image array and label array do not have equal sizes\"\n",
    "\n",
    "\n",
    "    def split(\n",
    "        self,\n",
    "        ratio: float,\n",
    "        shuffle: bool = True,\n",
    "        seed: int | None = None\n",
    "    ) -> tuple['PlantVillageDataset', 'PlantVillageDataset']:\n",
    "        \"\"\"Split the dataset into two PlantVillage datasets.\"\"\"\n",
    "\n",
    "        assert 0 < ratio < 1, \"ratio must be between 0 and 1\"\n",
    "\n",
    "        if shuffle:\n",
    "            self.shuffle(seed)\n",
    "\n",
    "        split1_size = int(len(self.images) * ratio)\n",
    "\n",
    "        ds1 = PlantVillageDataset(None)\n",
    "        ds2 = PlantVillageDataset(None)\n",
    "        ds1.label_names = self.label_names\n",
    "        ds2.label_names = self.label_names\n",
    "        ds1.images = self.images[:split1_size]\n",
    "        ds1.labels = self.labels[:split1_size]\n",
    "        ds2.images = self.images[split1_size:]\n",
    "        ds2.labels = self.labels[split1_size:]\n",
    "\n",
    "        return ds1, ds2\n",
    "\n",
    "\n",
    "    def shuffle(self, seed: int | None = None) -> None:\n",
    "        rng = np.random.default_rng(seed)\n",
    "        idxs = rng.permutation(len(self.images))\n",
    "        self.images = self.images[idxs]\n",
    "        self.labels = self.labels[idxs]\n",
    "\n",
    "\n",
    "    def __len__(self):\n",
    "        return len(self.images)\n",
    "\n",
    "\n",
    "    def __getitem__(self, i: int) -> Data:\n",
    "        img_path = self.images[i]\n",
    "        img = cv2.imread(img_path)\n",
    "        assert img.shape == self.IMG_SHAPE, f\"Wrong image shape {img.shape}\"\n",
    "        img = cv2.cvtColor(img, cv2.COLOR_BGR2RGB)\n",
    "        img = torch.from_numpy(img).to(torch.float32)\n",
    "        img = 2 * (img / 255) - 1\n",
    "\n",
    "        return img, self.labels[i]\n"
   ]
  },
  {
   "cell_type": "code",
   "execution_count": 8,
   "id": "xTGO-oFfOH8B",
   "metadata": {
    "colab": {
     "base_uri": "https://localhost:8080/"
    },
    "executionInfo": {
     "elapsed": 43062,
     "status": "ok",
     "timestamp": 1714374425750,
     "user": {
      "displayName": "Chaitanya Lakhchaura",
      "userId": "14549145919157624375"
     },
     "user_tz": -330
    },
    "id": "xTGO-oFfOH8B",
    "outputId": "1c585019-01cf-4494-fc59-d64f908c7252"
   },
   "outputs": [
    {
     "data": {
      "text/plain": [
       "54305"
      ]
     },
     "execution_count": 8,
     "metadata": {},
     "output_type": "execute_result"
    }
   ],
   "source": [
    "dataset = PlantVillageDataset(\"./dataset\")\n",
    "len(dataset)"
   ]
  },
  {
   "cell_type": "code",
   "execution_count": 9,
   "id": "SWWbf3hfNsex",
   "metadata": {
    "colab": {
     "base_uri": "https://localhost:8080/"
    },
    "executionInfo": {
     "elapsed": 4,
     "status": "ok",
     "timestamp": 1714374425750,
     "user": {
      "displayName": "Chaitanya Lakhchaura",
      "userId": "14549145919157624375"
     },
     "user_tz": -330
    },
    "id": "SWWbf3hfNsex",
    "outputId": "d08e23ed-9bf6-4ec1-ae7b-d682bdb92907"
   },
   "outputs": [
    {
     "data": {
      "text/plain": [
       "(48874, 5431)"
      ]
     },
     "execution_count": 9,
     "metadata": {},
     "output_type": "execute_result"
    }
   ],
   "source": [
    "train_ds, test_ds = dataset.split(0.9, seed = SEED)\n",
    "len(train_ds), len(test_ds)"
   ]
  },
  {
   "cell_type": "code",
   "execution_count": 10,
   "id": "KTucfAgQrByZ",
   "metadata": {
    "colab": {
     "base_uri": "https://localhost:8080/"
    },
    "executionInfo": {
     "elapsed": 798,
     "status": "ok",
     "timestamp": 1714374426546,
     "user": {
      "displayName": "Chaitanya Lakhchaura",
      "userId": "14549145919157624375"
     },
     "user_tz": -330
    },
    "id": "KTucfAgQrByZ",
    "outputId": "977d1b6b-d0f2-42a7-e34a-afa988f23a8a"
   },
   "outputs": [
    {
     "name": "stdout",
     "output_type": "stream",
     "text": [
      "torch.Size([256, 256, 3]) tensor(0.6549)\n",
      "torch.Size([38]) torch.int64 \n",
      "\n",
      "torch.Size([256, 256, 3]) tensor(0.1059)\n",
      "torch.Size([38]) torch.int64\n"
     ]
    }
   ],
   "source": [
    "# Testing the data retrieval\n",
    "x = train_ds[5]\n",
    "print(x[0].shape, x[0][4,77,0])\n",
    "print(x[1].shape, x[1].dtype, \"\\n\")\n",
    "\n",
    "x = test_ds[5]\n",
    "print(x[0].shape, x[0][175,255,1])\n",
    "print(x[1].shape, x[1].dtype)"
   ]
  },
  {
   "cell_type": "code",
   "execution_count": 15,
   "id": "rdxSoanH7AQV",
   "metadata": {
    "id": "rdxSoanH7AQV"
   },
   "outputs": [],
   "source": [
    "# Creating DataLoaders\n",
    "BATCH_SIZE = 4\n",
    "NUM_WORKERS = 4\n",
    "\n",
    "train_dl = DataLoader(train_ds, BATCH_SIZE, True, num_workers=NUM_WORKERS)\n",
    "test_dl = DataLoader(test_ds, BATCH_SIZE, False, num_workers=NUM_WORKERS)"
   ]
  },
  {
   "cell_type": "markdown",
   "id": "Gq8-kvlVuFio",
   "metadata": {
    "id": "Gq8-kvlVuFio"
   },
   "source": [
    "## Model Building"
   ]
  },
  {
   "cell_type": "code",
   "execution_count": 16,
   "id": "a309f352-c807-4a2f-bc59-3c0edd4e36f7",
   "metadata": {
    "id": "a309f352-c807-4a2f-bc59-3c0edd4e36f7"
   },
   "outputs": [],
   "source": [
    "class PlantDiseaseRecogniser(ivy.Module):\n",
    "    \"Plant Disease Recognition model for 256x256 images.\"\n",
    "\n",
    "    def __init__(self, num_classes: int):\n",
    "        kernal_size = [3, 3]\n",
    "        self.cnn = ivy.Sequential(\n",
    "            ivy.Conv2D(3, 8, kernal_size, 1, \"same\"),\n",
    "            ivy.BatchNorm2D(8),\n",
    "            ivy.LeakyReLU(0.2),\n",
    "            ivy.MaxPool2D((2,2), 2, 0),\n",
    "            ivy.Conv2D(8, 32, kernal_size, 1, \"same\"),\n",
    "            ivy.BatchNorm2D(32),\n",
    "            ivy.LeakyReLU(0.2),\n",
    "            ivy.MaxPool2D((2,2), 2, 0),\n",
    "            ivy.Conv2D(32, 64, kernal_size, 1, \"same\"),\n",
    "            ivy.BatchNorm2D(64),\n",
    "            ivy.LeakyReLU(0.2),\n",
    "            ivy.MaxPool2D((2,2), 2, 0),\n",
    "            ivy.Conv2D(64, 128, kernal_size, 1, \"same\"),\n",
    "            ivy.BatchNorm2D(128),\n",
    "            ivy.LeakyReLU(0.2),\n",
    "            ivy.MaxPool2D((2,2), 2, 0),\n",
    "            ivy.Conv2D(128, 128, kernal_size, 1, \"same\"),\n",
    "            ivy.BatchNorm2D(128),\n",
    "            ivy.LeakyReLU(0.2),\n",
    "        )\n",
    "\n",
    "        self.fc = ivy.Sequential(\n",
    "            ivy.Linear(32768, 1000),\n",
    "            ivy.LeakyReLU(0.2),\n",
    "            ivy.Dropout(0.2),\n",
    "            ivy.Linear(1000, num_classes),\n",
    "        )\n",
    "\n",
    "        self.loss_func = ivy.CrossEntropyLoss()\n",
    "        self.optimizer = ivy.Adam()\n",
    "\n",
    "        super().__init__()\n",
    "\n",
    "\n",
    "    def train_model(\n",
    "        self,\n",
    "        train_dl: DataLoader,\n",
    "        test_dl: DataLoader,\n",
    "        ckpt_path: str,\n",
    "        learning_rate: float | None = None,\n",
    "        epochs: int | None = None\n",
    "    ) -> None:\n",
    "        \"\"\"\n",
    "        Train the model on PlantVillageDataset.\n",
    "\n",
    "        Args:\n",
    "            train_data: dataset for training the model.\n",
    "            test_data: dataset for testing the model.\n",
    "            ckpt_path: Directory path where checkpoints will be saved\n",
    "            learning_rate: learning rate while training\n",
    "            epochs: No. of training epochs\n",
    "        \"\"\"\n",
    "\n",
    "        os.makedirs(ckpt_path, exist_ok=True)\n",
    "        append_to_ckpt = lambda x: os.path.join(ckpt_path, x)\n",
    "\n",
    "        best_ckpt = append_to_ckpt(\"best.pt\")\n",
    "        last_ckpt = append_to_ckpt(\"last.pt\")\n",
    "        run_json_path = append_to_ckpt(\"training.json\")\n",
    "\n",
    "        if os.path.exists(run_json_path):\n",
    "            with open(run_json_path, 'r') as f:\n",
    "                run = json.load(f)\n",
    "        else:\n",
    "            if learning_rate is None or epochs is None:\n",
    "                raise ValueError(\"learning_rate and epochs must be\"\n",
    "                    \"set if previous run json does not exist\")\n",
    "\n",
    "            run = {'lr': 0, \"epochs\": 0, \"last_epoch\": 0, # epochs start from 1\n",
    "                   \"train_losses\": [], \"test_losses\": []}\n",
    "\n",
    "        if learning_rate is not None: run[\"lr\"] = learning_rate\n",
    "        if epochs is not None: run[\"epochs\"] = epochs\n",
    "\n",
    "        self.optimizer._lr = run[\"lr\"]\n",
    "\n",
    "        if os.path.exists(last_ckpt): self.load_model(last_ckpt)\n",
    "\n",
    "        calc = AverageCalculator()\n",
    "        if len(run[\"test_losses\"]) == 0:\n",
    "            least_loss = 100.\n",
    "        else:\n",
    "            least_loss = min(run[\"test_losses\"])\n",
    "        print(f\"Lowest test loss yet: {least_loss}\")\n",
    "\n",
    "        DEVICE = ivy.default_device()        \n",
    "        for epoch in range(run[\"last_epoch\"]+1, run[\"epochs\"]+1):\n",
    "            print(f\"\\nEpoch {epoch}/{run['epochs']}:\")\n",
    "            self.train(True)\n",
    "            for data in tqdm(train_dl):\n",
    "                imgs = ivy.array(data[0], device=DEVICE)\n",
    "                labels = ivy.array(data[1], device=DEVICE)\n",
    "                loss, grads = ivy.execute_with_gradients(\n",
    "                    lambda x: self.calculate_loss(*x),\n",
    "                    (imgs, labels, self.v),\n",
    "                    xs_grad_idxs = [[2]],\n",
    "                )\n",
    "                self.v = self.optimizer.step(self.v, grads)\n",
    "                calc.update(loss.item(), imgs.shape[0])\n",
    "\n",
    "            run[\"train_losses\"].append(calc.avg())\n",
    "            calc.reset()\n",
    "            print(\"Training Loss:\", run[\"train_losses\"][-1])\n",
    "\n",
    "            self.train(False)\n",
    "            for data in tqdm(test_dl):\n",
    "                imgs = ivy.array(data[0], device=DEVICE)\n",
    "                labels = ivy.array(data[1], device=DEVICE)\n",
    "                loss = self.calculate_loss(imgs, labels)\n",
    "                calc.update(loss.item(), imgs.shape[0])\n",
    "\n",
    "            run[\"test_losses\"].append(calc.avg())\n",
    "            calc.reset()\n",
    "            print(\"Testing Loss:\", run[\"test_losses\"][-1])\n",
    "\n",
    "            if run[\"test_losses\"][-1] < least_loss:\n",
    "                self.save(best_ckpt)\n",
    "                least_loss = run[\"test_losses\"][-1]\n",
    "                print(\"New best model saved!\")\n",
    "\n",
    "            self.save(last_ckpt)\n",
    "\n",
    "            run[\"last_epoch\"] = epoch\n",
    "            with open(run_json_path, 'w') as f:\n",
    "                json.dump(run, f, indent=4)\n",
    "\n",
    "        print(\"\\nTraining complete!\")\n",
    "\n",
    "\n",
    "    def _forward(self, X: ivy.Array, training: bool = False) -> ivy.Array:\n",
    "        out = self.cnn(X).flatten(start_dim=1)\n",
    "        out = self.fc(out)\n",
    "        if not training:\n",
    "            out = out.argmax(axis=1)\n",
    "        return out.softmax(axis=1)\n",
    "\n",
    "\n",
    "    def calculate_loss(\n",
    "        self,\n",
    "        inputs: ivy.Array,\n",
    "        targets: ivy.Array,\n",
    "        variables: ivy.Container = None,\n",
    "    ) -> ivy.Array:\n",
    "\n",
    "        preds = self(inputs, training=True, v=variables)\n",
    "        losses = self.loss_func(targets, preds)\n",
    "        return losses.mean()\n",
    "\n",
    "\n",
    "    def load_model(self, model_path: str):\n",
    "        self.__dict__.update(self.load(model_path).__dict__)"
   ]
  },
  {
   "cell_type": "markdown",
   "id": "X6Mxx7qRNja-",
   "metadata": {
    "id": "X6Mxx7qRNja-"
   },
   "source": [
    "## Model Training"
   ]
  },
  {
   "cell_type": "code",
   "execution_count": 17,
   "id": "eD5upbCGNnC7",
   "metadata": {
    "id": "eD5upbCGNnC7"
   },
   "outputs": [],
   "source": [
    "model = PlantDiseaseRecogniser(38)"
   ]
  },
  {
   "cell_type": "code",
   "execution_count": null,
   "id": "7EUDjsDIr0o5",
   "metadata": {
    "id": "7EUDjsDIr0o5"
   },
   "outputs": [],
   "source": [
    "model.train_model(train_dl, test_dl,\n",
    "                  ckpt_path=\"./model\",\n",
    "                  learning_rate=0.001,\n",
    "                  epochs=10)"
   ]
  },
  {
   "cell_type": "code",
   "execution_count": null,
   "id": "BpnFI2vjqDoU",
   "metadata": {
    "id": "BpnFI2vjqDoU"
   },
   "outputs": [],
   "source": []
  }
 ],
 "metadata": {
  "colab": {
   "collapsed_sections": [
    "h7jHt72MpLys"
   ],
   "provenance": []
  },
  "kernelspec": {
   "display_name": "Python 3 (ipykernel)",
   "language": "python",
   "name": "python3"
  },
  "language_info": {
   "codemirror_mode": {
    "name": "ipython",
    "version": 3
   },
   "file_extension": ".py",
   "mimetype": "text/x-python",
   "name": "python",
   "nbconvert_exporter": "python",
   "pygments_lexer": "ipython3",
   "version": "3.10.12"
  }
 },
 "nbformat": 4,
 "nbformat_minor": 5
}
